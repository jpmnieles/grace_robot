{
 "cells": [
  {
   "cell_type": "code",
   "execution_count": 11,
   "id": "4e9190e3",
   "metadata": {},
   "outputs": [
    {
     "name": "stdout",
     "output_type": "stream",
     "text": [
      "[[ 0.99872511  0.01465102 -0.04830625  0.02245928]\n",
      " [-0.01520456  0.99982266 -0.01111132 -0.08113743]\n",
      " [ 0.04813489  0.01183163  0.99877077  1.51667401]]\n"
     ]
    }
   ],
   "source": [
    "import cv2\n",
    "import numpy as np\n",
    "\n",
    "# Define the 3D coordinates of the chessboard corners in the world coordinate system\n",
    "chessboard_size = (9, 6)\n",
    "origin_point = [7,5]\n",
    "square_size = 0.047  # Assuming each square size is 1 unit\n",
    "object_points = np.zeros((chessboard_size[0] * chessboard_size[1], 3), np.float32)\n",
    "object_points[:,:2] = (np.mgrid[0:chessboard_size[0], 0:chessboard_size[1]].T.reshape(-1, 2) -np.array(origin_point))* square_size\n",
    "\n",
    "\n",
    "\n",
    "# Load the image containing the chessboard\n",
    "image = cv2.imread('results/chest_img.jpg')\n",
    "\n",
    "# Convert the image to grayscale\n",
    "gray_image = cv2.cvtColor(image, cv2.COLOR_BGR2GRAY)\n",
    "\n",
    "# Find the chessboard corners\n",
    "ret, corners = cv2.findChessboardCorners(gray_image, chessboard_size, None)\n",
    "\n",
    "# Estimate the camera intrinsic parameters (assuming you have already calibrated the camera)\n",
    "camera_matrix = np.array([[601.70849609375, 0, 425.7778015136719],\n",
    "                          [0, 600.453125, 241.71969604492188],\n",
    "                          [0, 0, 1]])\n",
    "\n",
    "# Estimate the distortion coefficients (assuming you have already calibrated the camera)\n",
    "dist_coeffs = np.array([0, 0, 0, 0, 0])\n",
    "\n",
    "# Estimate the extrinsic matrix\n",
    "retval, rvec, tvec = cv2.solvePnP(object_points, corners, camera_matrix, dist_coeffs)\n",
    "\n",
    "# Convert the rotation vector to a rotation matrix\n",
    "rotation_matrix, _ = cv2.Rodrigues(rvec)\n",
    "\n",
    "# Create the extrinsic matrix\n",
    "extrinsic_matrix = np.hstack((rotation_matrix, tvec))\n",
    "\n",
    "print(extrinsic_matrix)"
   ]
  },
  {
   "cell_type": "code",
   "execution_count": null,
   "id": "090fa490",
   "metadata": {},
   "outputs": [],
   "source": []
  }
 ],
 "metadata": {
  "kernelspec": {
   "display_name": "Python 3 (ipykernel)",
   "language": "python",
   "name": "python3"
  },
  "language_info": {
   "codemirror_mode": {
    "name": "ipython",
    "version": 3
   },
   "file_extension": ".py",
   "mimetype": "text/x-python",
   "name": "python",
   "nbconvert_exporter": "python",
   "pygments_lexer": "ipython3",
   "version": "3.8.10"
  }
 },
 "nbformat": 4,
 "nbformat_minor": 5
}

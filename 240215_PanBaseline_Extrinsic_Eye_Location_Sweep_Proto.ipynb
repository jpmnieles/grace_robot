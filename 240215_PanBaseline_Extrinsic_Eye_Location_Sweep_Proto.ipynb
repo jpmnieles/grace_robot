{
 "cells": [
  {
   "cell_type": "markdown",
   "id": "90371f2a",
   "metadata": {},
   "source": [
    "# Import"
   ]
  },
  {
   "cell_type": "code",
   "execution_count": 1,
   "id": "4fe24120",
   "metadata": {
    "ExecuteTime": {
     "end_time": "2024-02-08T12:42:58.780036Z",
     "start_time": "2024-02-08T12:42:57.424384Z"
    }
   },
   "outputs": [],
   "source": [
    "import os\n",
    "import sys\n",
    "\n",
    "import pickle\n",
    "import math\n",
    "import numpy as np\n",
    "import cv2 as cv\n",
    "import matplotlib.pyplot as plt\n",
    "import copy\n",
    "import random\n",
    "import pandas as pd\n",
    "import seaborn as sns\n",
    "from sklearn.metrics import mean_squared_error\n",
    "from matplotlib.patches import Ellipse\n",
    "import matplotlib.transforms as transforms\n",
    "\n",
    "import datetime\n",
    "import time\n",
    "from IPython.display import clear_output\n",
    "\n",
    "import pytransform3d.rotations as pr\n",
    "from pytransform3d.plot_utils import make_3d_axis\n",
    "from utils import *\n",
    "\n",
    "from grace.utils import *"
   ]
  },
  {
   "cell_type": "markdown",
   "id": "1eea754f",
   "metadata": {},
   "source": [
    "# Initialization"
   ]
  },
  {
   "cell_type": "code",
   "execution_count": 2,
   "id": "6f9e79d4",
   "metadata": {
    "ExecuteTime": {
     "end_time": "2024-02-08T12:42:58.784360Z",
     "start_time": "2024-02-08T12:42:58.781892Z"
    }
   },
   "outputs": [],
   "source": [
    "calib_params = load_json('config/calib/calib_params.json')\n",
    "\n",
    "pan_direction: {\n",
    "    0: 'left_left',\n",
    "    1: 'left_right',\n",
    "    2: 'right_left',\n",
    "    3: 'right_right',\n",
    "}\n",
    "    \n",
    "tilt_direction: {\n",
    "    0: 'down_down',\n",
    "    1: 'down_up',\n",
    "    2: 'up_down',\n",
    "    3: 'up_up',\n",
    "}\n",
    "    \n",
    "chessboard_size = (9,6)\n",
    "colors = ['#1f77b4', '#ff7f0e', '#2ca02c', '#d62728', '#9467bd', \n",
    "          '#8c564b', '#e377c2', '#7f7f7f', '#bcbd22', '#17becf']\n",
    "\n",
    "def read_pickle_file(file_path):\n",
    "    with open(file_path, 'rb') as file:\n",
    "        data = pickle.load(file)\n",
    "    return data\n",
    "\n",
    "def get_phi_direction(theta, theta_tminus1, data, i):\n",
    "    phi_direction = None\n",
    "    try:\n",
    "        if data[theta][i-1]<data[theta_tminus1][i-1] and data[theta][i]<data[theta_tminus1][i]:\n",
    "            phi_direction = 0\n",
    "        elif data[theta][i-1]<data[theta_tminus1][i-1] and data[theta][i]>=data[theta_tminus1][i]:\n",
    "            phi_direction = 1\n",
    "        elif data[theta][i-1]>=data[theta_tminus1][i-1] and data[theta][i]<data[theta_tminus1][i]:\n",
    "            phi_direction = 2\n",
    "        elif data[theta][i-1]>=data[theta_tminus1][i-1] and data[theta][i]>=data[theta_tminus1][i]:\n",
    "            phi_direction = 3\n",
    "    except:\n",
    "        phi_direction = 0\n",
    "    return phi_direction\n",
    "\n",
    "def get_chess_corners(img, camera_mtx, dist_coef):\n",
    "    # Convert the image to grayscale\n",
    "    gray = cv2.cvtColor(img, cv2.COLOR_BGR2GRAY)\n",
    "\n",
    "    # Find the chessboard corners\n",
    "    ret, corners = cv2.findChessboardCorners(gray, chessboard_size, None)\n",
    "    \n",
    "    # Subcorner Pixel Accuracy\n",
    "    criteria = (cv2.TERM_CRITERIA_EPS + cv2.TERM_CRITERIA_MAX_ITER, 30, 0.001)\n",
    "    corners = cv2.cornerSubPix(gray, corners, (9,9), (-1,-1), criteria)\n",
    "    corners = corners.squeeze()\n",
    "    \n",
    "    return corners\n",
    "\n",
    "def get_chess_obj_pts(img, depth_img, camera_mtx, dist_coef):\n",
    "    corners = get_chess_corners(img, camera_mtx, dist_coef)\n",
    "    int_corners = np.round(corners).astype(int)\n",
    "    \n",
    "    depth_list = []\n",
    "    for corner in int_corners:\n",
    "        depth_list.append(depth_img[corner[1], corner[0]])\n",
    "    depth_list = np.array(depth_list)\n",
    "    depth_mean = np.mean(depth_list[np.nonzero(depth_list)])/1000.0\n",
    "    \n",
    "    fx = camera_mtx[0][0]\n",
    "    cx = camera_mtx[0][2]\n",
    "    fy = camera_mtx[1][1]\n",
    "    cy = camera_mtx[1][2]\n",
    "\n",
    "    obj_pts = []\n",
    "    for u,v in corners:\n",
    "        z = depth_mean\n",
    "        x = ((u-cx)/fx)*z\n",
    "        y = ((v-cy)/fy)*z\n",
    "        obj_pts.append([x, y, z])\n",
    "        \n",
    "    return np.array(obj_pts)\n",
    "\n",
    "def get_camera_pose(img, obj_pts, camera_mtx, dist_coef):\n",
    "    # Get corners\n",
    "    corners = get_chess_corners(img, camera_mtx, dist_coef)\n",
    "    \n",
    "    # Estimate the extrinsic matrix\n",
    "    # retval, rvec, tvec = cv2.solvePnP(obj_pts, corners, camera_mtx, dist_coef)\n",
    "    retval, rvec, tvec = cv2.solvePnP(obj_pts, corners, camera_mtx, dist_coef, flags=cv2.SOLVEPNP_SQPNP )\n",
    "    # retval, rvec, tvec = cv2.solvePnP(obj_pts, corners, camera_mtx, dist_coef, rvec, tvec=np.array([0,0,0.25]), useExtrinsicGuess = True)\n",
    "    \n",
    "    # Convert the rotation vector to a rotation matrix\n",
    "    rotation_matrix, _ = cv2.Rodrigues(rvec)\n",
    "    \n",
    "    # Homogeneous Coordinates\n",
    "    H = np.eye(4)\n",
    "    H[:3,:3] = rotation_matrix\n",
    "    H[:3,-1] = tvec.T\n",
    "    \n",
    "    # Camera Pose\n",
    "    T = np.linalg.inv(H)\n",
    "    return T\n",
    "    \n",
    "def depth_to_pointcloud(px, depth_img, camera_mtx, z_replace):  \n",
    "    fx = camera_mtx[0][0]\n",
    "    cx = camera_mtx[0][2]\n",
    "    fy = camera_mtx[1][1]\n",
    "    cy = camera_mtx[1][2]\n",
    "    u = round(px[0])\n",
    "    v = round(px[1])\n",
    "    z = depth_img[v,u]/1000.0\n",
    "    if z==0:\n",
    "        z = z_replace\n",
    "    x = ((u-cx)/fx)*z\n",
    "    y = ((v-cy)/fy)*z\n",
    "    return x,y,z"
   ]
  },
  {
   "cell_type": "markdown",
   "id": "dd672f6d",
   "metadata": {},
   "source": [
    "# Loading of Data"
   ]
  },
  {
   "cell_type": "markdown",
   "id": "3d9cdfe3",
   "metadata": {},
   "source": [
    "## Pickle Data"
   ]
  },
  {
   "cell_type": "code",
   "execution_count": 3,
   "id": "529b6ab1",
   "metadata": {
    "ExecuteTime": {
     "end_time": "2024-02-08T12:42:58.802262Z",
     "start_time": "2024-02-08T12:42:58.799760Z"
    }
   },
   "outputs": [],
   "source": [
    "filename = 'pan_baseline_sweep_pickle_20240318_004730_332152.pickle'"
   ]
  },
  {
   "cell_type": "code",
   "execution_count": 4,
   "id": "edc3759f",
   "metadata": {},
   "outputs": [],
   "source": [
    "filename = 'pan_baseline_sweep_pickle_20240318_022814_396590.pickle'"
   ]
  },
  {
   "cell_type": "code",
   "execution_count": 5,
   "id": "4c8729b6",
   "metadata": {
    "ExecuteTime": {
     "end_time": "2024-02-08T12:42:59.080812Z",
     "start_time": "2024-02-08T12:42:58.803974Z"
    }
   },
   "outputs": [],
   "source": [
    "fn_path = os.path.join(os.getcwd(), 'results', 'pan_baseline_sweep',filename)\n",
    "data = read_pickle_file(fn_path)\n",
    "data = data['data']"
   ]
  },
  {
   "cell_type": "code",
   "execution_count": 6,
   "id": "447ba25c",
   "metadata": {
    "ExecuteTime": {
     "end_time": "2024-02-08T12:43:15.487900Z",
     "start_time": "2024-02-08T12:42:59.081913Z"
    }
   },
   "outputs": [],
   "source": [
    "pickle_df = pd.DataFrame(data)"
   ]
  },
  {
   "cell_type": "markdown",
   "id": "62101852",
   "metadata": {},
   "source": [
    "## Preprocessing\n",
    "\n"
   ]
  },
  {
   "cell_type": "code",
   "execution_count": 7,
   "id": "d1d5eb3b",
   "metadata": {
    "ExecuteTime": {
     "end_time": "2024-02-08T12:43:15.523919Z",
     "start_time": "2024-02-08T12:43:15.516295Z"
    }
   },
   "outputs": [],
   "source": [
    "# Assigning next step data for tminus1\n",
    "\n",
    "pickle_df['theta_left_pan_cmd_tminus1'] = [0] + pickle_df['theta_left_pan_cmd'][:-1].tolist() \n",
    "pickle_df['theta_right_pan_cmd_tminus1'] = [0] + pickle_df['theta_right_pan_cmd'][:-1].tolist() \n",
    "pickle_df['theta_tilt_cmd_tminus1'] = [0] + pickle_df['theta_tilt_cmd'][:-1].tolist()\n",
    "pickle_df['chess_idx_tminus1'] = [0] + pickle_df['chess_idx'][:-1].tolist() \n",
    "pickle_df['theta_left_pan_tminus1'] = [0] + pickle_df['theta_left_pan'][:-1].tolist() \n",
    "pickle_df['theta_right_pan_tminus1'] = [0] + pickle_df['theta_right_pan'][:-1].tolist() \n",
    "pickle_df['theta_tilt_tminus1'] = [0] + pickle_df['theta_tilt'][:-1].tolist()\n",
    "pickle_df['plan_phi_left_pan_tminus2'] = [0,0] + pickle_df['plan_phi_left_pan'][:-2].tolist()\n",
    "pickle_df['plan_phi_right_pan_tminus2'] = [0,0] + pickle_df['plan_phi_right_pan'][:-2].tolist()\n",
    "pickle_df['plan_phi_tilt_tminus2'] = [0,0] + pickle_df['plan_phi_tilt'][:-2].tolist()\n",
    "pickle_df['plan_phi_left_pan_tminus1'] = [0] + pickle_df['plan_phi_left_pan'][:-1].tolist()\n",
    "pickle_df['plan_phi_right_pan_tminus1'] = [0] + pickle_df['plan_phi_right_pan'][:-1].tolist()\n",
    "pickle_df['plan_phi_tilt_tminus1'] = [0] + pickle_df['plan_phi_tilt'][:-1].tolist()"
   ]
  },
  {
   "cell_type": "code",
   "execution_count": 8,
   "id": "59078b74",
   "metadata": {
    "ExecuteTime": {
     "end_time": "2024-02-08T12:43:15.537870Z",
     "start_time": "2024-02-08T12:43:15.525258Z"
    }
   },
   "outputs": [],
   "source": [
    "# Phi Direction\n",
    "\n",
    "phi_direction_left_pan_list = [0] + [get_phi_direction(theta='plan_phi_left_pan_tminus1',\n",
    "                                                       theta_tminus1='plan_phi_left_pan_tminus2',\n",
    "                                                       data=pickle_df, i=i) \n",
    "                                     for i in range(1, len(pickle_df))]\n",
    "phi_direction_right_pan_list = [0] + [get_phi_direction(theta='plan_phi_right_pan_tminus1',\n",
    "                                                        theta_tminus1='plan_phi_right_pan_tminus2',\n",
    "                                                        data=pickle_df, i=i) \n",
    "                                     for i in range(1, len(pickle_df))]\n",
    "phi_direction_tilt_list = [0] + [get_phi_direction(theta='plan_phi_tilt_tminus1',\n",
    "                                                   theta_tminus1='plan_phi_tilt_tminus2',\n",
    "                                                   data=pickle_df, i=i) \n",
    "                                     for i in range(1, len(pickle_df))]\n",
    "\n",
    "pickle_df['phi_direction_left_pan'] = phi_direction_left_pan_list\n",
    "pickle_df['phi_direction_right_pan'] = phi_direction_right_pan_list\n",
    "pickle_df['phi_direction_tilt'] = phi_direction_tilt_list"
   ]
  },
  {
   "cell_type": "code",
   "execution_count": 9,
   "id": "7cd2c101",
   "metadata": {
    "ExecuteTime": {
     "end_time": "2024-02-08T12:43:15.559495Z",
     "start_time": "2024-02-08T12:43:15.556069Z"
    }
   },
   "outputs": [
    {
     "data": {
      "text/plain": [
       "Index(['chess_idx', 'theta_left_pan', 'theta_right_pan', 'theta_tilt',\n",
       "       'chest_cam_px_x_tminus1', 'chest_cam_px_y_tminus1',\n",
       "       'left_eye_px_x_tminus1', 'left_eye_px_y_tminus1',\n",
       "       'right_eye_px_x_tminus1', 'right_eye_px_y_tminus1', 'chest_cam_px_x',\n",
       "       'chest_cam_px_y', 'left_eye_px_x', 'left_eye_px_y', 'right_eye_px_x',\n",
       "       'right_eye_px_y', 'dx_l', 'dy_l', 'dx_r', 'dy_r', '3d_point',\n",
       "       'chest_pan_angle', 'chest_tilt_angle', 'plan_phi_left_pan',\n",
       "       'plan_phi_right_pan', 'plan_phi_tilt', 'chest_img', 'left_eye_img',\n",
       "       'right_eye_img', 'depth_img', 'chest_img_stamp', 'left_eye_img_stamp',\n",
       "       'right_eye_img_stamp', 'depth_img_stamp', 'theta_left_pan_cmd',\n",
       "       'theta_right_pan_cmd', 'theta_tilt_cmd', 'theta_left_pan_cmd_tminus1',\n",
       "       'theta_right_pan_cmd_tminus1', 'theta_tilt_cmd_tminus1',\n",
       "       'chess_idx_tminus1', 'theta_left_pan_tminus1',\n",
       "       'theta_right_pan_tminus1', 'theta_tilt_tminus1',\n",
       "       'plan_phi_left_pan_tminus2', 'plan_phi_right_pan_tminus2',\n",
       "       'plan_phi_tilt_tminus2', 'plan_phi_left_pan_tminus1',\n",
       "       'plan_phi_right_pan_tminus1', 'plan_phi_tilt_tminus1',\n",
       "       'phi_direction_left_pan', 'phi_direction_right_pan',\n",
       "       'phi_direction_tilt'],\n",
       "      dtype='object')"
      ]
     },
     "execution_count": 9,
     "metadata": {},
     "output_type": "execute_result"
    }
   ],
   "source": [
    "pickle_df.columns"
   ]
  },
  {
   "cell_type": "markdown",
   "id": "17ba5db1",
   "metadata": {},
   "source": [
    "# Filtering"
   ]
  },
  {
   "cell_type": "code",
   "execution_count": 12,
   "id": "430e4cc8",
   "metadata": {
    "ExecuteTime": {
     "end_time": "2024-02-08T12:43:15.554449Z",
     "start_time": "2024-02-08T12:43:15.539718Z"
    }
   },
   "outputs": [
    {
     "data": {
      "text/html": [
       "<div>\n",
       "<style scoped>\n",
       "    .dataframe tbody tr th:only-of-type {\n",
       "        vertical-align: middle;\n",
       "    }\n",
       "\n",
       "    .dataframe tbody tr th {\n",
       "        vertical-align: top;\n",
       "    }\n",
       "\n",
       "    .dataframe thead th {\n",
       "        text-align: right;\n",
       "    }\n",
       "</style>\n",
       "<table border=\"1\" class=\"dataframe\">\n",
       "  <thead>\n",
       "    <tr style=\"text-align: right;\">\n",
       "      <th></th>\n",
       "      <th>chess_idx</th>\n",
       "      <th>theta_left_pan</th>\n",
       "      <th>theta_right_pan</th>\n",
       "      <th>theta_tilt</th>\n",
       "      <th>chest_cam_px_x_tminus1</th>\n",
       "      <th>chest_cam_px_y_tminus1</th>\n",
       "      <th>left_eye_px_x_tminus1</th>\n",
       "      <th>left_eye_px_y_tminus1</th>\n",
       "      <th>right_eye_px_x_tminus1</th>\n",
       "      <th>right_eye_px_y_tminus1</th>\n",
       "      <th>...</th>\n",
       "      <th>theta_tilt_tminus1</th>\n",
       "      <th>plan_phi_left_pan_tminus2</th>\n",
       "      <th>plan_phi_right_pan_tminus2</th>\n",
       "      <th>plan_phi_tilt_tminus2</th>\n",
       "      <th>plan_phi_left_pan_tminus1</th>\n",
       "      <th>plan_phi_right_pan_tminus1</th>\n",
       "      <th>plan_phi_tilt_tminus1</th>\n",
       "      <th>phi_direction_left_pan</th>\n",
       "      <th>phi_direction_right_pan</th>\n",
       "      <th>phi_direction_tilt</th>\n",
       "    </tr>\n",
       "  </thead>\n",
       "  <tbody>\n",
       "    <tr>\n",
       "      <th>0</th>\n",
       "      <td>4</td>\n",
       "      <td>-4.482422</td>\n",
       "      <td>-0.263672</td>\n",
       "      <td>0.263672</td>\n",
       "      <td>288.398041</td>\n",
       "      <td>42.305222</td>\n",
       "      <td>-360.6</td>\n",
       "      <td>-224.7</td>\n",
       "      <td>-222.3</td>\n",
       "      <td>-235.9</td>\n",
       "      <td>...</td>\n",
       "      <td>0.263672</td>\n",
       "      <td>-0.360012</td>\n",
       "      <td>-0.437861</td>\n",
       "      <td>-0.051282</td>\n",
       "      <td>-0.219013</td>\n",
       "      <td>-0.304049</td>\n",
       "      <td>-0.049098</td>\n",
       "      <td>1</td>\n",
       "      <td>1</td>\n",
       "      <td>1</td>\n",
       "    </tr>\n",
       "    <tr>\n",
       "      <th>1</th>\n",
       "      <td>8</td>\n",
       "      <td>-3.427734</td>\n",
       "      <td>-0.263672</td>\n",
       "      <td>0.263672</td>\n",
       "      <td>451.873657</td>\n",
       "      <td>43.206783</td>\n",
       "      <td>-360.6</td>\n",
       "      <td>-224.7</td>\n",
       "      <td>-222.3</td>\n",
       "      <td>-235.9</td>\n",
       "      <td>...</td>\n",
       "      <td>0.263672</td>\n",
       "      <td>-0.070958</td>\n",
       "      <td>-0.159409</td>\n",
       "      <td>-0.045054</td>\n",
       "      <td>0.076956</td>\n",
       "      <td>-0.012186</td>\n",
       "      <td>-0.043485</td>\n",
       "      <td>3</td>\n",
       "      <td>3</td>\n",
       "      <td>3</td>\n",
       "    </tr>\n",
       "    <tr>\n",
       "      <th>2</th>\n",
       "      <td>4</td>\n",
       "      <td>-2.373047</td>\n",
       "      <td>-0.263672</td>\n",
       "      <td>0.263672</td>\n",
       "      <td>451.964111</td>\n",
       "      <td>43.221348</td>\n",
       "      <td>-360.6</td>\n",
       "      <td>-224.7</td>\n",
       "      <td>-222.3</td>\n",
       "      <td>-235.9</td>\n",
       "      <td>...</td>\n",
       "      <td>0.263672</td>\n",
       "      <td>0.219294</td>\n",
       "      <td>0.134084</td>\n",
       "      <td>-0.040181</td>\n",
       "      <td>0.076889</td>\n",
       "      <td>-0.012121</td>\n",
       "      <td>-0.042965</td>\n",
       "      <td>2</td>\n",
       "      <td>2</td>\n",
       "      <td>2</td>\n",
       "    </tr>\n",
       "    <tr>\n",
       "      <th>3</th>\n",
       "      <td>0</td>\n",
       "      <td>-1.494141</td>\n",
       "      <td>-0.263672</td>\n",
       "      <td>0.263672</td>\n",
       "      <td>288.389313</td>\n",
       "      <td>42.268261</td>\n",
       "      <td>-360.6</td>\n",
       "      <td>-224.7</td>\n",
       "      <td>-222.3</td>\n",
       "      <td>-235.9</td>\n",
       "      <td>...</td>\n",
       "      <td>0.263672</td>\n",
       "      <td>-0.070900</td>\n",
       "      <td>-0.159482</td>\n",
       "      <td>-0.045580</td>\n",
       "      <td>-0.219109</td>\n",
       "      <td>-0.303889</td>\n",
       "      <td>-0.048015</td>\n",
       "      <td>0</td>\n",
       "      <td>0</td>\n",
       "      <td>0</td>\n",
       "    </tr>\n",
       "    <tr>\n",
       "      <th>4</th>\n",
       "      <td>4</td>\n",
       "      <td>-0.439453</td>\n",
       "      <td>-0.263672</td>\n",
       "      <td>0.263672</td>\n",
       "      <td>288.327881</td>\n",
       "      <td>42.264496</td>\n",
       "      <td>-360.6</td>\n",
       "      <td>-224.7</td>\n",
       "      <td>-222.3</td>\n",
       "      <td>-235.9</td>\n",
       "      <td>...</td>\n",
       "      <td>0.263672</td>\n",
       "      <td>-0.360012</td>\n",
       "      <td>-0.437861</td>\n",
       "      <td>-0.051282</td>\n",
       "      <td>-0.219109</td>\n",
       "      <td>-0.303889</td>\n",
       "      <td>-0.048015</td>\n",
       "      <td>1</td>\n",
       "      <td>1</td>\n",
       "      <td>1</td>\n",
       "    </tr>\n",
       "  </tbody>\n",
       "</table>\n",
       "<p>5 rows × 53 columns</p>\n",
       "</div>"
      ],
      "text/plain": [
       "   chess_idx  theta_left_pan  theta_right_pan  theta_tilt   \n",
       "0          4       -4.482422        -0.263672    0.263672  \\\n",
       "1          8       -3.427734        -0.263672    0.263672   \n",
       "2          4       -2.373047        -0.263672    0.263672   \n",
       "3          0       -1.494141        -0.263672    0.263672   \n",
       "4          4       -0.439453        -0.263672    0.263672   \n",
       "\n",
       "   chest_cam_px_x_tminus1  chest_cam_px_y_tminus1  left_eye_px_x_tminus1   \n",
       "0              288.398041               42.305222                 -360.6  \\\n",
       "1              451.873657               43.206783                 -360.6   \n",
       "2              451.964111               43.221348                 -360.6   \n",
       "3              288.389313               42.268261                 -360.6   \n",
       "4              288.327881               42.264496                 -360.6   \n",
       "\n",
       "   left_eye_px_y_tminus1  right_eye_px_x_tminus1  right_eye_px_y_tminus1  ...   \n",
       "0                 -224.7                  -222.3                  -235.9  ...  \\\n",
       "1                 -224.7                  -222.3                  -235.9  ...   \n",
       "2                 -224.7                  -222.3                  -235.9  ...   \n",
       "3                 -224.7                  -222.3                  -235.9  ...   \n",
       "4                 -224.7                  -222.3                  -235.9  ...   \n",
       "\n",
       "   theta_tilt_tminus1  plan_phi_left_pan_tminus2  plan_phi_right_pan_tminus2   \n",
       "0            0.263672                  -0.360012                   -0.437861  \\\n",
       "1            0.263672                  -0.070958                   -0.159409   \n",
       "2            0.263672                   0.219294                    0.134084   \n",
       "3            0.263672                  -0.070900                   -0.159482   \n",
       "4            0.263672                  -0.360012                   -0.437861   \n",
       "\n",
       "   plan_phi_tilt_tminus2  plan_phi_left_pan_tminus1   \n",
       "0              -0.051282                  -0.219013  \\\n",
       "1              -0.045054                   0.076956   \n",
       "2              -0.040181                   0.076889   \n",
       "3              -0.045580                  -0.219109   \n",
       "4              -0.051282                  -0.219109   \n",
       "\n",
       "   plan_phi_right_pan_tminus1  plan_phi_tilt_tminus1  phi_direction_left_pan   \n",
       "0                   -0.304049              -0.049098                       1  \\\n",
       "1                   -0.012186              -0.043485                       3   \n",
       "2                   -0.012121              -0.042965                       2   \n",
       "3                   -0.303889              -0.048015                       0   \n",
       "4                   -0.303889              -0.048015                       1   \n",
       "\n",
       "   phi_direction_right_pan  phi_direction_tilt  \n",
       "0                        1                   1  \n",
       "1                        3                   3  \n",
       "2                        2                   2  \n",
       "3                        0                   0  \n",
       "4                        1                   1  \n",
       "\n",
       "[5 rows x 53 columns]"
      ]
     },
     "execution_count": 12,
     "metadata": {},
     "output_type": "execute_result"
    }
   ],
   "source": [
    "filt_df = pickle_df[(pickle_df['theta_left_pan_cmd']>-6) & (pickle_df['theta_left_pan_cmd']<10) ].reset_index(drop=True)\n",
    "filt_df.head()"
   ]
  },
  {
   "cell_type": "code",
   "execution_count": 13,
   "id": "cd6d72cf",
   "metadata": {},
   "outputs": [
    {
     "data": {
      "text/plain": [
       "array([-4., -3., -2., -1.,  0.,  1.,  2.,  3.,  4.,  5.,  6.,  7.,  8.])"
      ]
     },
     "execution_count": 13,
     "metadata": {},
     "output_type": "execute_result"
    }
   ],
   "source": [
    "filt_df['theta_left_pan_cmd'].unique()"
   ]
  },
  {
   "cell_type": "markdown",
   "id": "076cf4eb",
   "metadata": {},
   "source": [
    "# Extrinsic Matrix"
   ]
  },
  {
   "cell_type": "markdown",
   "id": "5286ff1b",
   "metadata": {},
   "source": [
    "## Initialization"
   ]
  },
  {
   "cell_type": "code",
   "execution_count": 14,
   "id": "22a54839",
   "metadata": {
    "ExecuteTime": {
     "end_time": "2024-02-08T12:44:45.100104Z",
     "start_time": "2024-02-08T12:44:45.075901Z"
    }
   },
   "outputs": [],
   "source": [
    "calib_params = load_json('config/calib/calib_params.json')\n",
    "camera_mtx = load_json(\"config/camera/camera_mtx.json\")"
   ]
  },
  {
   "cell_type": "code",
   "execution_count": 15,
   "id": "75fddd5b",
   "metadata": {
    "ExecuteTime": {
     "end_time": "2024-02-08T12:44:45.457750Z",
     "start_time": "2024-02-08T12:44:45.454136Z"
    }
   },
   "outputs": [],
   "source": [
    "left_eye_camera_mtx = np.array(camera_mtx['left_eye']['camera_matrix'])\n",
    "left_eye_dist_coef = np.array(camera_mtx['left_eye']['distortion_coefficients']).squeeze()\n",
    "right_eye_camera_mtx = np.array(camera_mtx['right_eye']['camera_matrix'])\n",
    "right_eye_dist_coef = np.array(camera_mtx['right_eye']['distortion_coefficients']).squeeze()\n",
    "chest_cam_camera_mtx = np.array(camera_mtx['chest_cam']['camera_matrix'])\n",
    "chest_cam_dist_coef = np.array(camera_mtx['chest_cam']['distortion_coefficients']).squeeze()"
   ]
  },
  {
   "cell_type": "code",
   "execution_count": 16,
   "id": "b68ca21a",
   "metadata": {},
   "outputs": [],
   "source": [
    "# Example\n",
    "\n",
    "chest_img = filt_df['chest_img'][0]\n",
    "depth_img = filt_df['depth_img'][0]"
   ]
  },
  {
   "cell_type": "code",
   "execution_count": 17,
   "id": "1f22f4e4",
   "metadata": {},
   "outputs": [],
   "source": [
    "# Get Chess Corners and Object Points\n",
    "\n",
    "corners = get_chess_corners(chest_img, chest_cam_camera_mtx, chest_cam_dist_coef)\n",
    "obj_pts = get_chess_obj_pts(chest_img, depth_img, chest_cam_camera_mtx, chest_cam_dist_coef)"
   ]
  },
  {
   "cell_type": "code",
   "execution_count": 18,
   "id": "e4bac08a",
   "metadata": {},
   "outputs": [],
   "source": [
    "# Define the 3D coordinates of the chessboard corners in the world coordinate system\n",
    "chessboard_size = (9, 6)\n",
    "origin_point = [0,0]\n",
    "square_size = 0.047  # Assumiimgng each square size is 1 unit\n",
    "obj_pts = np.zeros((chessboard_size[0] * chessboard_size[1], 3), np.float32)\n",
    "obj_pts[:,:2] = (np.mgrid[0:chessboard_size[0], 0:chessboard_size[1]].T.reshape(-1, 2) -np.array(origin_point))* square_size"
   ]
  },
  {
   "cell_type": "code",
   "execution_count": 19,
   "id": "599a256e",
   "metadata": {},
   "outputs": [
    {
     "data": {
      "text/plain": [
       "(190.0, 70.0)"
      ]
     },
     "execution_count": 19,
     "metadata": {},
     "output_type": "execute_result"
    },
    {
     "data": {
      "image/png": "[encoded data removed]",
      "text/plain": [
       "<Figure size 640x480 with 1 Axes>"
      ]
     },
     "metadata": {},
     "output_type": "display_data"
    }
   ],
   "source": [
    "plt.figure()\n",
    "plt.imshow(chest_img)\n",
    "for u,v in corners:\n",
    "    plt.scatter(u,v, color='blue',alpha=0.3)\n",
    "plt.xlim([350, 530])\n",
    "plt.ylim([190, 70])"
   ]
  },
  {
   "cell_type": "code",
   "execution_count": 20,
   "id": "f8aa7085",
   "metadata": {},
   "outputs": [
    {
     "data": {
      "image/png": "[encoded data removed]",
      "text/plain": [
       "<Figure size 640x480 with 1 Axes>"
      ]
     },
     "metadata": {},
     "output_type": "display_data"
    }
   ],
   "source": [
    "import matplotlib.pyplot as plt\n",
    "from mpl_toolkits.mplot3d import Axes3D\n",
    "\n",
    "# Create a figure and an axes object\n",
    "fig = plt.figure()\n",
    "ax = fig.add_subplot(111, projection='3d')\n",
    "\n",
    "# Plot the 3D points\n",
    "for x,y,z in obj_pts:\n",
    "    ax.scatter(x, y, z, color=colors[0])\n",
    "\n",
    "# Set labels and title\n",
    "ax.set_xlabel('X (m)')\n",
    "ax.set_ylabel('Y (m)')\n",
    "ax.set_zlabel('Z (m)')\n",
    "ax.set_title('3D Scatter Plot')\n",
    "ax.set_zlim([-0.2,1.7])\n",
    "ax.view_init(elev=-80, azim=90)\n",
    "\n",
    "# Show the plot\n",
    "plt.show()"
   ]
  },
  {
   "cell_type": "markdown",
   "id": "0bdaac1b",
   "metadata": {},
   "source": [
    "# Extrinsic Transformation"
   ]
  },
  {
   "cell_type": "code",
   "execution_count": 21,
   "id": "35f00f7f",
   "metadata": {},
   "outputs": [],
   "source": [
    "# Chest Image\n",
    "\n",
    "T_chest = get_camera_pose(chest_img, obj_pts, chest_cam_camera_mtx, chest_cam_dist_coef)"
   ]
  },
  {
   "cell_type": "code",
   "execution_count": 22,
   "id": "ab42ed73",
   "metadata": {},
   "outputs": [],
   "source": [
    "# Looping: Left Eye Image\n",
    "\n",
    "img_list = filt_df['left_eye_img'].tolist()\n",
    "T_left_list = []\n",
    "for img in img_list:\n",
    "    T_left_list.append(get_camera_pose(img, obj_pts, left_eye_camera_mtx, left_eye_dist_coef))"
   ]
  },
  {
   "cell_type": "code",
   "execution_count": 23,
   "id": "75b4d0ce",
   "metadata": {},
   "outputs": [],
   "source": [
    "%matplotlib widget"
   ]
  },
  {
   "cell_type": "code",
   "execution_count": 24,
   "id": "246142e5",
   "metadata": {},
   "outputs": [
    {
     "data": {
      "text/plain": [
       "(-0.2, 2.0)"
      ]
     },
     "execution_count": 24,
     "metadata": {},
     "output_type": "execute_result"
    },
    {
     "data": {
      "application/vnd.jupyter.widget-view+json": {
       "model_id": "1849d52c2a064e7da91a3517dfac099e",
       "version_major": 2,
       "version_minor": 0
      },
      "image/png": "[encoded data removed]",
      "text/html": [
       "\n",
       "            <div style=\"display: inline-block;\">\n",
       "                <div class=\"jupyter-widgets widget-label\" style=\"text-align: center;\">\n",
       "                    Figure\n",
       "                </div>\n",
       "                <img src='data:image/png;base64,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' width=640.0/>\n",
       "            </div>\n",
       "        "
      ],
      "text/plain": [
       "Canvas(toolbar=Toolbar(toolitems=[('Home', 'Reset original view', 'home', 'home'), ('Back', 'Back to previous …"
      ]
     },
     "metadata": {},
     "output_type": "display_data"
    }
   ],
   "source": [
    "# Plot 3D Axes\n",
    "\n",
    "plt.figure()\n",
    "ax = make_3d_axis(1, 111, unit=\"m\")\n",
    "\n",
    "# Plot Origin\n",
    "ax = pr.plot_basis(ax, s=0.2)\n",
    "\n",
    "# Plot 3D Chess Points\n",
    "for x,y,z in obj_pts:\n",
    "    ax.scatter(x, y, z, color=colors[0], marker='.')\n",
    "\n",
    "# Plot Chest Cam\n",
    "ax = pr.plot_basis(ax, T_chest[:3,:3], T_chest[:3,-1], s=0.2)\n",
    "    \n",
    "# Plot Left Poses\n",
    "for T in [T_left_list[0]]:\n",
    "    ax = pr.plot_basis(ax, T[:3,:3], T[:3,-1], s=0.2)\n",
    "\n",
    "ax.view_init(elev=-90, azim=-90)\n",
    "ax.set_title(\"camera transformation\")\n",
    "\n",
    "ax.set_zlim([-0.2, 2.0])"
   ]
  },
  {
   "cell_type": "code",
   "execution_count": 25,
   "id": "9943b36c",
   "metadata": {},
   "outputs": [
    {
     "data": {
      "text/plain": [
       "array([[ 0.9764323 ,  0.01216279, -0.21548095,  0.20230123],\n",
       "       [-0.02025081,  0.9991692 , -0.03536675,  0.03503487],\n",
       "       [ 0.21487177,  0.0388969 ,  0.97586739, -0.69560858],\n",
       "       [ 0.        ,  0.        ,  0.        ,  1.        ]])"
      ]
     },
     "execution_count": 25,
     "metadata": {},
     "output_type": "execute_result"
    }
   ],
   "source": [
    "T_left_list[0]"
   ]
  },
  {
   "cell_type": "code",
   "execution_count": 26,
   "id": "f4253ae1",
   "metadata": {},
   "outputs": [
    {
     "data": {
      "text/plain": [
       "array([[ 0.99665061, -0.01790158,  0.0797941 ,  0.19161655],\n",
       "       [ 0.0182569 ,  0.99982639, -0.00372565,  0.23304277],\n",
       "       [-0.07971355,  0.00516996,  0.9968044 , -0.6945553 ],\n",
       "       [ 0.        ,  0.        ,  0.        ,  1.        ]])"
      ]
     },
     "execution_count": 26,
     "metadata": {},
     "output_type": "execute_result"
    }
   ],
   "source": [
    "T_chest"
   ]
  },
  {
   "cell_type": "code",
   "execution_count": 27,
   "id": "b9c0ca81",
   "metadata": {},
   "outputs": [
    {
     "name": "stdout",
     "output_type": "stream",
     "text": [
      "[[ 9.55663932e-01  2.72631736e-02 -2.93194761e-01  7.11783758e-03]\n",
      " [-3.66160910e-02  9.98979098e-01 -2.64579660e-02 -1.98170238e-01]\n",
      " [ 2.92174109e-01  3.60205699e-02  9.55686564e-01  5.40371520e-04]\n",
      " [ 0.00000000e+00  0.00000000e+00  0.00000000e+00  1.00000000e+00]]\n"
     ]
    }
   ],
   "source": [
    "# Compute inverse of P1\n",
    "P1_inv = np.linalg.inv(T_chest)\n",
    "\n",
    "# Compute the relative transformation between P1 and P2\n",
    "P_rel = np.matmul(P1_inv, T_left_list[0])\n",
    "\n",
    "print(P_rel)"
   ]
  },
  {
   "cell_type": "markdown",
   "id": "43a98dd4",
   "metadata": {},
   "source": [
    "## Multiple Poses"
   ]
  },
  {
   "cell_type": "code",
   "execution_count": 28,
   "id": "35758ec4",
   "metadata": {},
   "outputs": [
    {
     "data": {
      "text/plain": [
       "(-0.2, 2.0)"
      ]
     },
     "execution_count": 28,
     "metadata": {},
     "output_type": "execute_result"
    },
    {
     "data": {
      "application/vnd.jupyter.widget-view+json": {
       "model_id": "9c2c97622d1c4282bb6b7f61ac44eba2",
       "version_major": 2,
       "version_minor": 0
      },
      "image/png": "[encoded data removed]",
      "text/html": [
       "\n",
       "            <div style=\"display: inline-block;\">\n",
       "                <div class=\"jupyter-widgets widget-label\" style=\"text-align: center;\">\n",
       "                    Figure\n",
       "                </div>\n",
       "                <img src='data:image/png;base64,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' width=640.0/>\n",
       "            </div>\n",
       "        "
      ],
      "text/plain": [
       "Canvas(toolbar=Toolbar(toolitems=[('Home', 'Reset original view', 'home', 'home'), ('Back', 'Back to previous …"
      ]
     },
     "metadata": {},
     "output_type": "display_data"
    }
   ],
   "source": [
    "# Plot 3D Axes\n",
    "\n",
    "plt.figure()\n",
    "ax = make_3d_axis(1, 111, unit=\"m\")\n",
    "\n",
    "# Plot Origin\n",
    "ax = pr.plot_basis(ax, s=0.2)\n",
    "\n",
    "# Plot 3D Chess Points\n",
    "for x,y,z in obj_pts:\n",
    "    ax.scatter(x, y, z, color=colors[0], marker='.')\n",
    "\n",
    "# Plot Chest Cam\n",
    "ax = pr.plot_basis(ax, T_chest[:3,:3], T_chest[:3,-1], s=0.2)\n",
    "    \n",
    "# Plot Left Poses\n",
    "for T in T_left_list:\n",
    "    ax = pr.plot_basis(ax, T[:3,:3], T[:3,-1], s=1.0)\n",
    "\n",
    "ax.view_init(elev=-90, azim=-90)\n",
    "ax.set_title(\"camera transformation\")\n",
    "\n",
    "ax.set_zlim([-0.2, 2.0])"
   ]
  },
  {
   "cell_type": "raw",
   "id": "e7f6749f",
   "metadata": {},
   "source": [
    "T_left_list"
   ]
  },
  {
   "cell_type": "code",
   "execution_count": null,
   "id": "fc3d1dc5",
   "metadata": {},
   "outputs": [],
   "source": []
  },
  {
   "cell_type": "markdown",
   "id": "96f2b4ef",
   "metadata": {},
   "source": [
    "## List of Camera Pose"
   ]
  },
  {
   "cell_type": "code",
   "execution_count": null,
   "id": "46d8ee79",
   "metadata": {},
   "outputs": [],
   "source": [
    "# New Camera Matrix\n",
    "\n",
    "left_eye_camera_mtx = np.array([[611.3656616210938, 0.0, 320.4515075683594], \n",
    "                                [0.0, 609.9281616210938, 247.3879852294922], \n",
    "                                [0.0, 0.0, 1.0]])\n",
    "left_eye_dist_coef = np.array([0.0, 0.0, 0.0, 0.0, 0.0])\n",
    "\n",
    "right_eye_camera_mtx = np.array([[611.3656616210938, 0.0, 320.4515075683594], \n",
    "                                [0.0, 609.9281616210938, 247.3879852294922], \n",
    "                                [0.0, 0.0, 1.0]])\n",
    "right_eye_dist_coef = np.array([0.0, 0.0, 0.0, 0.0, 0.0])"
   ]
  },
  {
   "cell_type": "code",
   "execution_count": null,
   "id": "dff11251",
   "metadata": {},
   "outputs": [],
   "source": [
    "# Chest Image\n",
    "\n",
    "T_chest = get_camera_pose(chest_img, obj_pts, chest_cam_camera_mtx, chest_cam_dist_coef)"
   ]
  },
  {
   "cell_type": "code",
   "execution_count": null,
   "id": "4764dd13",
   "metadata": {},
   "outputs": [],
   "source": [
    "# Looping: Left Eye Image\n",
    "\n",
    "# img_list = pan_filt_df['left_eye_img'].tolist()\n",
    "\n",
    "# Realsense Eye Image\n",
    "filename = '20240226_014111_517237_left_eye.png'\n",
    "left_img_path = os.path.join(os.getcwd(), 'results', 'pan_baseline_fk_acc_zero',filename)\n",
    "left_img = cv2.imread(left_img_path)\n",
    "img_list = [left_img]\n",
    "\n",
    "T_left_list = []\n",
    "for img in img_list:\n",
    "    T_left_list.append(get_camera_pose(img, obj_pts, left_eye_camera_mtx, left_eye_dist_coef))"
   ]
  },
  {
   "cell_type": "code",
   "execution_count": null,
   "id": "20a26786",
   "metadata": {
    "ExecuteTime": {
     "end_time": "2024-02-08T12:53:54.641629Z",
     "start_time": "2024-02-08T12:53:54.549974Z"
    }
   },
   "outputs": [],
   "source": [
    "# Looping: Right Eye Image\n",
    "\n",
    "# img_list = pan_filt_df['right_eye_img'].tolist()\n",
    "\n",
    "# Realsense Eye Image\n",
    "filename = '20240226_014048_435364_right_eye.png'\n",
    "right_img_path = os.path.join(os.getcwd(), 'results', 'pan_baseline_fk_acc_zero',filename)\n",
    "right_img = cv2.imread(right_img_path)\n",
    "img_list = [right_img]\n",
    "\n",
    "T_right_list = []\n",
    "for img in img_list:\n",
    "    T_right_list.append(get_camera_pose(img, obj_pts, right_eye_camera_mtx, right_eye_dist_coef))"
   ]
  },
  {
   "cell_type": "code",
   "execution_count": null,
   "id": "77572d5b",
   "metadata": {},
   "outputs": [],
   "source": [
    "%matplotlib widget"
   ]
  },
  {
   "cell_type": "code",
   "execution_count": null,
   "id": "11f7a33c",
   "metadata": {
    "ExecuteTime": {
     "end_time": "2024-02-08T13:03:52.872003Z",
     "start_time": "2024-02-08T13:03:52.762106Z"
    }
   },
   "outputs": [],
   "source": [
    "# Plot 3D Axes\n",
    "\n",
    "plt.figure()\n",
    "ax = make_3d_axis(1, 111, unit=\"m\")\n",
    "\n",
    "# Plot Origin\n",
    "ax = pr.plot_basis(ax, s=0.2)\n",
    "\n",
    "# Plot 3D Chess Points\n",
    "for x,y,z in obj_pts:\n",
    "    ax.scatter(x, y, z, color=colors[0], marker='.')\n",
    "\n",
    "# Plot Chest Cam\n",
    "ax = pr.plot_basis(ax, T_chest[:3,:3], T_chest[:3,-1], s=0.2)\n",
    "    \n",
    "# Plot Left Poses\n",
    "for T in T_left_list:\n",
    "    ax = pr.plot_basis(ax, T[:3,:3], T[:3,-1], s=0.2)\n",
    "# Plot Right Poses\n",
    "for T in T_right_list:\n",
    "    ax = pr.plot_basis(ax, T[:3,:3], T[:3,-1], s=0.2)\n",
    "\n",
    "ax.view_init(elev=-90, azim=-90)\n",
    "ax.set_title(\"camera transformation\")\n",
    "\n",
    "ax.set_zlim([-0.2, 2.0])"
   ]
  },
  {
   "cell_type": "code",
   "execution_count": null,
   "id": "c2227c26",
   "metadata": {},
   "outputs": [],
   "source": [
    "T_chest"
   ]
  },
  {
   "cell_type": "code",
   "execution_count": null,
   "id": "b8cc5249",
   "metadata": {},
   "outputs": [],
   "source": [
    "T_left_list[0]"
   ]
  },
  {
   "cell_type": "code",
   "execution_count": null,
   "id": "009e8ff2",
   "metadata": {},
   "outputs": [],
   "source": [
    "T_right_list[0]"
   ]
  },
  {
   "cell_type": "code",
   "execution_count": null,
   "id": "d5b4475b",
   "metadata": {},
   "outputs": [],
   "source": [
    "# Compute inverse of P1\n",
    "P1_inv = np.linalg.inv(T_chest)\n",
    "\n",
    "# Compute the relative transformation between P1 and P2\n",
    "P_rel = np.matmul(P1_inv, T_left_list[0])\n",
    "\n",
    "P_rel[:3,-1]"
   ]
  },
  {
   "cell_type": "code",
   "execution_count": null,
   "id": "8833cfa0",
   "metadata": {},
   "outputs": [],
   "source": [
    "# Compute inverse of P1\n",
    "P1_inv = np.linalg.inv(T_chest)\n",
    "\n",
    "# Compute the relative transformation between P1 and P2\n",
    "P_rel = np.matmul(P1_inv, T_right_list[0])\n",
    "\n",
    "P_rel[:3,-1]"
   ]
  },
  {
   "cell_type": "markdown",
   "id": "747592b2",
   "metadata": {},
   "source": [
    "# Coordinate Transformation"
   ]
  },
  {
   "cell_type": "code",
   "execution_count": null,
   "id": "c224f47c",
   "metadata": {},
   "outputs": [],
   "source": [
    "def get_chess_obj_pts_world(img, depth_img, camera_mtx, dist_coef):\n",
    "    corners = get_chess_corners(img, camera_mtx, dist_coef)\n",
    "    int_corners = np.round(corners).astype(int)\n",
    "    \n",
    "    depth_list = []\n",
    "    for corner in int_corners:\n",
    "        depth_list.append(depth_img[corner[1], corner[0]])\n",
    "    depth_list = np.array(depth_list)\n",
    "    depth_mean = np.mean(depth_list[np.nonzero(depth_list)])/1000.0\n",
    "    \n",
    "    fx = camera_mtx[0][0]\n",
    "    cx = camera_mtx[0][2]\n",
    "    fy = camera_mtx[1][1]\n",
    "    cy = camera_mtx[1][2]\n",
    "\n",
    "    obj_pts = []\n",
    "    for u,v in corners:\n",
    "        z = depth_mean\n",
    "        x = ((u-cx)/fx)*z\n",
    "        y = ((v-cy)/fy)*z\n",
    "        obj_pts.append([x, z, -y])\n",
    "        \n",
    "    return np.array(obj_pts)\n",
    "    \n",
    "def depth_to_world(px, depth_img, camera_mtx, z_replace):  \n",
    "    fx = camera_mtx[0][0]\n",
    "    cx = camera_mtx[0][2]\n",
    "    fy = camera_mtx[1][1]\n",
    "    cy = camera_mtx[1][2]\n",
    "    u = round(px[0])\n",
    "    v = round(px[1])\n",
    "    z = depth_img[v,u]/1000.0\n",
    "    if z==0:\n",
    "        z = z_replace\n",
    "    x = ((u-cx)/fx)*z\n",
    "    y = ((v-cy)/fy)*z\n",
    "    return x,z,-y"
   ]
  },
  {
   "cell_type": "code",
   "execution_count": null,
   "id": "e949381c",
   "metadata": {},
   "outputs": [],
   "source": [
    "# Get Chess Corners and Object Points\n",
    "\n",
    "corners = get_chess_corners(chest_img, chest_cam_camera_mtx, chest_cam_dist_coef)\n",
    "obj_pts_world = get_chess_obj_pts_world(chest_img, depth_img, chest_cam_camera_mtx, chest_cam_dist_coef)\n",
    "obj_pts_world = obj_pts"
   ]
  },
  {
   "cell_type": "code",
   "execution_count": null,
   "id": "076a70cd",
   "metadata": {},
   "outputs": [],
   "source": [
    "# Looping: Left Eye Image\n",
    "\n",
    "# Realsense Eye Image\n",
    "filename = '20240226_014111_517237_left_eye.png'\n",
    "left_img_path = os.path.join(os.getcwd(), 'results', 'pan_baseline_fk_acc_zero',filename)\n",
    "left_img = cv2.imread(left_img_path)\n",
    "img_list = [left_img]\n",
    "\n",
    "T_left_list = []\n",
    "for img in img_list:\n",
    "    T_left_list.append(get_camera_pose(img, obj_pts_world, left_eye_camera_mtx, left_eye_dist_coef))"
   ]
  },
  {
   "cell_type": "code",
   "execution_count": null,
   "id": "adc27e85",
   "metadata": {},
   "outputs": [],
   "source": [
    "# Looping: Right Eye Image\n",
    "\n",
    "# Realsense Eye Image\n",
    "filename = '20240226_014048_435364_right_eye.png'\n",
    "right_img_path = os.path.join(os.getcwd(), 'results', 'pan_baseline_fk_acc_zero',filename)\n",
    "right_img = cv2.imread(right_img_path)\n",
    "img_list = [right_img]\n",
    "\n",
    "T_right_list = []\n",
    "for img in img_list:\n",
    "    T_right_list.append(get_camera_pose(img, obj_pts_world, right_eye_camera_mtx, right_eye_dist_coef))"
   ]
  },
  {
   "cell_type": "code",
   "execution_count": null,
   "id": "230050fc",
   "metadata": {},
   "outputs": [],
   "source": [
    "T_conv = np.zeros((3,3))\n",
    "T_conv[0,0] = 1\n",
    "T_conv[1,2] = -1\n",
    "T_conv[2,1] = 1\n",
    "T_conv"
   ]
  },
  {
   "cell_type": "code",
   "execution_count": null,
   "id": "f2391aaa",
   "metadata": {},
   "outputs": [],
   "source": [
    "# Plot 3D Axes\n",
    "\n",
    "plt.figure()\n",
    "ax = make_3d_axis(1, 111, unit=\"m\")\n",
    "\n",
    "# Plot Origin\n",
    "ax = pr.plot_basis(ax, s=0.2)\n",
    "\n",
    "# Plot 3D Chess Points\n",
    "for x,y,z in obj_pts_world:\n",
    "    ax.scatter(x, y, z, color=colors[0], marker='.')\n",
    "\n",
    "# Plot Left Poses\n",
    "for T in T_left_list:\n",
    "    ax = pr.plot_basis(ax, T[:3,:3], T[:3,-1], s=0.2)\n",
    "# Plot Right Poses\n",
    "for T in T_right_list:\n",
    "    ax = pr.plot_basis(ax, T[:3,:3], T[:3,-1], s=0.2)\n",
    "\n",
    "# ax.view_init(elev=-50, azim=-90)\n",
    "ax.set_title(\"camera transformation\")\n",
    "\n",
    "# ax.set_zlim([-0.2, 2.0])"
   ]
  },
  {
   "cell_type": "code",
   "execution_count": null,
   "id": "3ad5e9f3",
   "metadata": {},
   "outputs": [],
   "source": [
    "# Plot 3D Axes\n",
    "\n",
    "plt.figure()\n",
    "ax = make_3d_axis(1, 111, unit=\"m\")\n",
    "\n",
    "# Plot Origin\n",
    "ax = pr.plot_basis(ax, s=0.2)\n",
    "\n",
    "# Plot 3D Chess Points\n",
    "for x,y,z in obj_pts_world:\n",
    "    ax.scatter(x, y, z, color=colors[0], marker='.')\n",
    "\n",
    "# Plot Left Poses\n",
    "for T in T_left_list:\n",
    "    ax = pr.plot_basis(ax, T[:3,:3]@T_conv, T[:3,-1], s=0.2)\n",
    "# Plot Right Poses\n",
    "for T in T_right_list:\n",
    "    ax = pr.plot_basis(ax, T[:3,:3]@T_conv, T[:3,-1], s=0.2)\n",
    "\n",
    "# ax.view_init(elev=-50, azim=-90)\n",
    "ax.set_title(\"camera transformation\")\n",
    "\n",
    "# ax.set_zlim([-0.2, 2.0])"
   ]
  },
  {
   "cell_type": "code",
   "execution_count": null,
   "id": "51996ccc",
   "metadata": {},
   "outputs": [],
   "source": [
    "left_cam_pose_list = []\n",
    "for T in T_left_list:\n",
    "    T_temp = T[:3,:3]@T_conv\n",
    "    T[:3,:3]= T_temp\n",
    "    left_cam_pose_list.append(T)"
   ]
  },
  {
   "cell_type": "code",
   "execution_count": null,
   "id": "4b397d9c",
   "metadata": {},
   "outputs": [],
   "source": [
    "left_loc_list = []\n",
    "for T in T_left_list:\n",
    "    left_loc_list.append(T[:3,-1])\n",
    "left_loc_list = np.array(left_loc_list)\n",
    "left_loc_list[:5]"
   ]
  },
  {
   "cell_type": "code",
   "execution_count": null,
   "id": "ce5e8e9c",
   "metadata": {},
   "outputs": [],
   "source": [
    "right_loc_list = []\n",
    "for T in T_right_list:\n",
    "    right_loc_list.append(T[:3,-1])\n",
    "right_loc_list = np.array(right_loc_list)\n",
    "right_loc_list[:5]"
   ]
  },
  {
   "cell_type": "code",
   "execution_count": null,
   "id": "b494e993",
   "metadata": {},
   "outputs": [],
   "source": [
    "val = math.dist(left_loc_list[0,:], right_loc_list[0,:])\n",
    "print('Left Eye - Right Eye Distance:', val, 'm')"
   ]
  },
  {
   "cell_type": "code",
   "execution_count": null,
   "id": "57934e18",
   "metadata": {},
   "outputs": [],
   "source": [
    "# Plot 3D Axes\n",
    "\n",
    "plt.figure()\n",
    "ax = make_3d_axis(1, 111, unit=\"m\")\n",
    "\n",
    "# Plot Origin\n",
    "ax = pr.plot_basis(ax, s=0.2)\n",
    "\n",
    "# Plot 3D Chess Points\n",
    "for x,y,z in left_loc_list:\n",
    "    ax.scatter(x, y, z, color=colors[0], marker='.')\n",
    "\n",
    "# ax.view_init(elev=-50, azim=-90)\n",
    "ax.set_title(\"camera transformation\")\n",
    "\n",
    "# ax.set_zlim([-0.2, 2.0])"
   ]
  },
  {
   "cell_type": "code",
   "execution_count": null,
   "id": "0c323693",
   "metadata": {},
   "outputs": [],
   "source": [
    "plt.figure()\n",
    "plt.hist(left_loc_list[:,0])"
   ]
  },
  {
   "cell_type": "code",
   "execution_count": null,
   "id": "07a42f0c",
   "metadata": {},
   "outputs": [],
   "source": [
    "plt.figure()\n",
    "plt.hist(left_loc_list[:,1])"
   ]
  },
  {
   "cell_type": "code",
   "execution_count": null,
   "id": "d4536db3",
   "metadata": {},
   "outputs": [],
   "source": [
    "plt.figure()\n",
    "plt.hist(left_loc_list[:,2])"
   ]
  },
  {
   "cell_type": "markdown",
   "id": "2f172711",
   "metadata": {},
   "source": [
    "# Left Eye Optical Center and Gaze Center"
   ]
  },
  {
   "cell_type": "code",
   "execution_count": null,
   "id": "3d6b3c6e",
   "metadata": {},
   "outputs": [],
   "source": [
    "# Center\n",
    "cx = camera_mtx['left_eye']['camera_matrix'][0][2]\n",
    "cy = camera_mtx['left_eye']['camera_matrix'][1][2]\n",
    "gx = calib_params['left_eye']['x_center']\n",
    "gy = calib_params['left_eye']['y_center']\n",
    "\n",
    "# Plot\n",
    "plt.figure()\n",
    "plt.scatter(cx, cy, color=colors[0])\n",
    "plt.scatter(gx, gy, color=colors[1])\n",
    "plt.xlim([0,847])\n",
    "plt.ylim([399, 0])\n",
    "plt.legend(['optical center', 'gaze center'])\n",
    "plt.grid()\n",
    "\n",
    "# Print\n",
    "print('cx:', cx)\n",
    "print('cy:', cy)\n",
    "print('gx:', gx)\n",
    "print('gy:', gy)"
   ]
  },
  {
   "cell_type": "code",
   "execution_count": null,
   "id": "71b1984e",
   "metadata": {},
   "outputs": [],
   "source": []
  },
  {
   "cell_type": "code",
   "execution_count": null,
   "id": "23938833",
   "metadata": {},
   "outputs": [],
   "source": []
  }
 ],
 "metadata": {
  "kernelspec": {
   "display_name": "Python 3 (ipykernel)",
   "language": "python",
   "name": "python3"
  },
  "language_info": {
   "codemirror_mode": {
    "name": "ipython",
    "version": 3
   },
   "file_extension": ".py",
   "mimetype": "text/x-python",
   "name": "python",
   "nbconvert_exporter": "python",
   "pygments_lexer": "ipython3",
   "version": "3.8.10"
  },
  "toc": {
   "base_numbering": 1,
   "nav_menu": {},
   "number_sections": true,
   "sideBar": true,
   "skip_h1_title": false,
   "title_cell": "Table of Contents",
   "title_sidebar": "Contents",
   "toc_cell": false,
   "toc_position": {},
   "toc_section_display": true,
   "toc_window_display": false
  },
  "varInspector": {
   "cols": {
    "lenName": 16,
    "lenType": 16,
    "lenVar": 40
   },
   "kernels_config": {
    "python": {
     "delete_cmd_postfix": "",
     "delete_cmd_prefix": "del ",
     "library": "var_list.py",
     "varRefreshCmd": "print(var_dic_list())"
    },
    "r": {
     "delete_cmd_postfix": ") ",
     "delete_cmd_prefix": "rm(",
     "library": "var_list.r",
     "varRefreshCmd": "cat(var_dic_list()) "
    }
   },
   "types_to_exclude": [
    "module",
    "function",
    "builtin_function_or_method",
    "instance",
    "_Feature"
   ],
   "window_display": false
  }
 },
 "nbformat": 4,
 "nbformat_minor": 5
}

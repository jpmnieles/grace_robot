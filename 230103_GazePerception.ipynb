{
 "cells": [
  {
   "cell_type": "code",
   "execution_count": 2,
   "id": "8841726b",
   "metadata": {
    "ExecuteTime": {
     "end_time": "2023-11-07T04:00:53.341573Z",
     "start_time": "2023-11-07T04:00:52.859887Z"
    }
   },
   "outputs": [],
   "source": [
    "import os\n",
    "import sys\n",
    "sys.path.append(os.path.abspath('..'))\n",
    "\n",
    "import cv2 as cv\n",
    "import matplotlib.pyplot as plt\n",
    "\n",
    "import dlib\n",
    "import numpy as np\n",
    "\n",
    "from grace.visuomotor import PeopleAttention"
   ]
  },
  {
   "cell_type": "code",
   "execution_count": 3,
   "id": "6a976edc",
   "metadata": {
    "ExecuteTime": {
     "end_time": "2023-11-07T04:00:54.155488Z",
     "start_time": "2023-11-07T04:00:53.726183Z"
    }
   },
   "outputs": [],
   "source": [
    "attention = PeopleAttention()"
   ]
  },
  {
   "cell_type": "code",
   "execution_count": 4,
   "id": "dc2b846b",
   "metadata": {
    "ExecuteTime": {
     "end_time": "2023-11-07T04:00:54.543558Z",
     "start_time": "2023-11-07T04:00:54.529552Z"
    }
   },
   "outputs": [],
   "source": [
    "left_img = cv.imread('results/231104_subject_0/20231104_183540_792042_left_eye.png')\n",
    "right_img = cv.imread('results/231104_subject_0/20231104_183540_792042_right_eye.png')"
   ]
  },
  {
   "cell_type": "code",
   "execution_count": 5,
   "id": "a3f0395f",
   "metadata": {
    "ExecuteTime": {
     "end_time": "2023-11-07T04:01:01.408686Z",
     "start_time": "2023-11-07T04:00:55.217182Z"
    }
   },
   "outputs": [
    {
     "ename": "TypeError",
     "evalue": "__call__(): incompatible function arguments. The following argument types are supported:\n    1. (self: _dlib_pybind11.shape_predictor, image: numpy.ndarray, box: _dlib_pybind11.rectangle) -> _dlib_pybind11.full_object_detection\n\nInvoked with: <_dlib_pybind11.shape_predictor object at 0x7ffaf1a9b470>, array([[ 42,  43,  43, ...,  35,  34,  33],\n       [ 42,  43,  43, ...,  35,  34,  34],\n       [ 42,  43,  43, ...,  35,  36,  35],\n       ...,\n       [224, 219, 217, ...,  19,  18,  17],\n       [228, 223, 217, ...,  18,  18,  18],\n       [229, 225, 217, ...,  18,  19,  19]], dtype=uint8), <_dlib_pybind11.mmod_rectangle object at 0x7ffaf38af970>",
     "output_type": "error",
     "traceback": [
      "\u001b[0;31m---------------------------------------------------------------------------\u001b[0m",
      "\u001b[0;31mTypeError\u001b[0m                                 Traceback (most recent call last)",
      "Cell \u001b[0;32mIn[5], line 9\u001b[0m\n\u001b[1;32m      7\u001b[0m \u001b[38;5;28mid\u001b[39m \u001b[38;5;241m=\u001b[39m \u001b[38;5;241m0\u001b[39m  \u001b[38;5;66;03m# Person ID\u001b[39;00m\n\u001b[1;32m      8\u001b[0m \u001b[38;5;28;01mif\u001b[39;00m \u001b[38;5;28mlen\u001b[39m(attention\u001b[38;5;241m.\u001b[39ml_detections) \u001b[38;5;241m>\u001b[39m \u001b[38;5;241m0\u001b[39m:\n\u001b[0;32m----> 9\u001b[0m     dx_l, dy_l \u001b[38;5;241m=\u001b[39m \u001b[43mattention\u001b[49m\u001b[38;5;241;43m.\u001b[39;49m\u001b[43mget_pixel_target\u001b[49m\u001b[43m(\u001b[49m\u001b[38;5;28;43mid\u001b[39;49m\u001b[43m,\u001b[49m\u001b[43m \u001b[49m\u001b[38;5;124;43m'\u001b[39;49m\u001b[38;5;124;43mleft_eye\u001b[39;49m\u001b[38;5;124;43m'\u001b[39;49m\u001b[43m)\u001b[49m\n\u001b[1;32m     10\u001b[0m     left_img \u001b[38;5;241m=\u001b[39m attention\u001b[38;5;241m.\u001b[39mvisualize_target(dx_l, dy_l, left_img, \u001b[38;5;28mid\u001b[39m, \u001b[38;5;124m'\u001b[39m\u001b[38;5;124mleft_eye\u001b[39m\u001b[38;5;124m'\u001b[39m)\n\u001b[1;32m     12\u001b[0m \u001b[38;5;28;01mif\u001b[39;00m \u001b[38;5;28mlen\u001b[39m(attention\u001b[38;5;241m.\u001b[39mr_detections) \u001b[38;5;241m>\u001b[39m \u001b[38;5;241m0\u001b[39m:\n",
      "File \u001b[0;32m~/dev/grace_robot/grace/visuomotor.py:247\u001b[0m, in \u001b[0;36mPeopleAttention.get_pixel_target\u001b[0;34m(self, id, eye)\u001b[0m\n\u001b[1;32m    245\u001b[0m     detection \u001b[38;5;241m=\u001b[39m \u001b[38;5;28mself\u001b[39m\u001b[38;5;241m.\u001b[39mr_detections[\u001b[38;5;28mid\u001b[39m]\n\u001b[1;32m    246\u001b[0m     img \u001b[38;5;241m=\u001b[39m \u001b[38;5;28mself\u001b[39m\u001b[38;5;241m.\u001b[39mr_gray\n\u001b[0;32m--> 247\u001b[0m landmarks \u001b[38;5;241m=\u001b[39m \u001b[38;5;28;43mself\u001b[39;49m\u001b[38;5;241;43m.\u001b[39;49m\u001b[43mpredictor\u001b[49m\u001b[43m(\u001b[49m\u001b[43mimg\u001b[49m\u001b[43m,\u001b[49m\u001b[43m \u001b[49m\u001b[43mdetection\u001b[49m\u001b[43m)\u001b[49m\n\u001b[1;32m    248\u001b[0m x_target \u001b[38;5;241m=\u001b[39m landmarks\u001b[38;5;241m.\u001b[39mpart(\u001b[38;5;241m30\u001b[39m)\u001b[38;5;241m.\u001b[39mx\n\u001b[1;32m    249\u001b[0m y_target \u001b[38;5;241m=\u001b[39m landmarks\u001b[38;5;241m.\u001b[39mpart(\u001b[38;5;241m30\u001b[39m)\u001b[38;5;241m.\u001b[39my\n",
      "\u001b[0;31mTypeError\u001b[0m: __call__(): incompatible function arguments. The following argument types are supported:\n    1. (self: _dlib_pybind11.shape_predictor, image: numpy.ndarray, box: _dlib_pybind11.rectangle) -> _dlib_pybind11.full_object_detection\n\nInvoked with: <_dlib_pybind11.shape_predictor object at 0x7ffaf1a9b470>, array([[ 42,  43,  43, ...,  35,  34,  33],\n       [ 42,  43,  43, ...,  35,  34,  34],\n       [ 42,  43,  43, ...,  35,  36,  35],\n       ...,\n       [224, 219, 217, ...,  19,  18,  17],\n       [228, 223, 217, ...,  18,  18,  18],\n       [229, 225, 217, ...,  18,  19,  19]], dtype=uint8), <_dlib_pybind11.mmod_rectangle object at 0x7ffaf38af970>"
     ]
    }
   ],
   "source": [
    "# Face Detection\n",
    "attention.register_imgs(left_img, right_img)\n",
    "attention.detect_people(left_img, right_img)\n",
    "\n",
    "\n",
    "# Attention\n",
    "id = 0  # Person ID\n",
    "if len(attention.l_detections) > 0:\n",
    "    dx_l, dy_l = attention.get_pixel_target(id, 'left_eye')\n",
    "    left_img = attention.visualize_target(dx_l, dy_l, left_img, id, 'left_eye')\n",
    "\n",
    "if len(attention.r_detections) > 0:\n",
    "    dx_r, dy_r = attention.get_pixel_target(id, 'right_eye')\n",
    "    right_img = attention.visualize_target(dx_r, dy_r, right_img, id, 'right_eye')"
   ]
  },
  {
   "cell_type": "code",
   "execution_count": null,
   "id": "22e89183",
   "metadata": {
    "ExecuteTime": {
     "end_time": "2023-11-07T03:47:15.009549Z",
     "start_time": "2023-11-07T03:47:14.645095Z"
    }
   },
   "outputs": [],
   "source": [
    "plt.imshow(left_img)\n",
    "print(dx_l, dy_l)"
   ]
  },
  {
   "cell_type": "code",
   "execution_count": null,
   "id": "2d72136f",
   "metadata": {
    "ExecuteTime": {
     "end_time": "2023-11-07T03:47:15.559721Z",
     "start_time": "2023-11-07T03:47:15.372530Z"
    }
   },
   "outputs": [],
   "source": [
    "plt.imshow(right_img)\n",
    "print(dx_r, dy_r)"
   ]
  },
  {
   "cell_type": "code",
   "execution_count": null,
   "id": "b2732666",
   "metadata": {},
   "outputs": [],
   "source": []
  }
 ],
 "metadata": {
  "kernelspec": {
   "display_name": "Python 3 (ipykernel)",
   "language": "python",
   "name": "python3"
  },
  "language_info": {
   "codemirror_mode": {
    "name": "ipython",
    "version": 3
   },
   "file_extension": ".py",
   "mimetype": "text/x-python",
   "name": "python",
   "nbconvert_exporter": "python",
   "pygments_lexer": "ipython3",
   "version": "3.8.10"
  },
  "toc": {
   "base_numbering": 1,
   "nav_menu": {},
   "number_sections": true,
   "sideBar": true,
   "skip_h1_title": false,
   "title_cell": "Table of Contents",
   "title_sidebar": "Contents",
   "toc_cell": false,
   "toc_position": {},
   "toc_section_display": true,
   "toc_window_display": false
  },
  "varInspector": {
   "cols": {
    "lenName": 16,
    "lenType": 16,
    "lenVar": 40
   },
   "kernels_config": {
    "python": {
     "delete_cmd_postfix": "",
     "delete_cmd_prefix": "del ",
     "library": "var_list.py",
     "varRefreshCmd": "print(var_dic_list())"
    },
    "r": {
     "delete_cmd_postfix": ") ",
     "delete_cmd_prefix": "rm(",
     "library": "var_list.r",
     "varRefreshCmd": "cat(var_dic_list()) "
    }
   },
   "types_to_exclude": [
    "module",
    "function",
    "builtin_function_or_method",
    "instance",
    "_Feature"
   ],
   "window_display": false
  }
 },
 "nbformat": 4,
 "nbformat_minor": 5
}
